{
 "cells": [
  {
   "cell_type": "markdown",
   "metadata": {},
   "source": [
    "# Classes and Objects"
   ]
  },
  {
   "cell_type": "markdown",
   "metadata": {},
   "source": [
    "Variables, Lists, Dictionaries etc in python is a object. Without getting into the theory part of Object Oriented Programming, explanation of the concepts will be done along this tutorial."
   ]
  },
  {
   "cell_type": "markdown",
   "metadata": {},
   "source": [
    "**A class is declared as follows: **"
   ]
  },
  {
   "cell_type": "markdown",
   "metadata": {},
   "source": [
    "    class class_name:\n",
    "\n",
    "        Functions"
   ]
  },
  {
   "cell_type": "code",
   "execution_count": 51,
   "metadata": {},
   "outputs": [],
   "source": [
    "class Person():\n",
    "    \n",
    "    # constructor\n",
    "    def __init__(self , _name = \"Kishore Kaushal\", _handle=\"bithack\" , _occupation=\"Time Pass\" , _id=111601008):\n",
    "        self.name = _name\n",
    "        self.handle = _handle\n",
    "        self.occupation = _occupation\n",
    "        self.id = _id\n",
    "        \n",
    "    def printName(self):\n",
    "        print(\"My name is: {0}\".format(self.name))\n",
    "        \n",
    "    def printOccupation(self):\n",
    "        pass\n",
    "    \n",
    "#     def __repr__(self):\n",
    "#         pass\n",
    "    \n",
    "#     def __str__(self):\n",
    "#         pass\n",
    "\n",
    "    def changeOccupation(self , _occupation = \"Time Pass Again\"):\n",
    "        self.occupation = _occupation\n",
    "            "
   ]
  },
  {
   "cell_type": "code",
   "execution_count": 52,
   "metadata": {},
   "outputs": [],
   "source": [
    "John = Person(\"John Wick\" , \"Wicked\" , \"retired hitman\" , 47)\n",
    "Emma = Person(\"Emma Stone\" , \"Stoned\" , \"student\" , 9)\n",
    "KK = Person()"
   ]
  },
  {
   "cell_type": "code",
   "execution_count": 53,
   "metadata": {},
   "outputs": [
    {
     "name": "stdout",
     "output_type": "stream",
     "text": [
      "My name is: John Wick\n",
      "My name is: Emma Stone\n",
      "My name is: Kishore Kaushal\n"
     ]
    }
   ],
   "source": [
    "John.printName()\n",
    "Emma.printName()\n",
    "KK.printName()"
   ]
  },
  {
   "cell_type": "code",
   "execution_count": 54,
   "metadata": {},
   "outputs": [],
   "source": [
    "John.printOccupation()\n",
    "Emma.printOccupation()\n",
    "KK.printOccupation()"
   ]
  },
  {
   "cell_type": "code",
   "execution_count": 55,
   "metadata": {},
   "outputs": [
    {
     "name": "stdout",
     "output_type": "stream",
     "text": [
      "<__main__.Person object at 0x7f6a75683240>\n"
     ]
    }
   ],
   "source": [
    "print(John)"
   ]
  },
  {
   "cell_type": "code",
   "execution_count": null,
   "metadata": {},
   "outputs": [],
   "source": []
  }
 ],
 "metadata": {
  "kernelspec": {
   "display_name": "Python 3",
   "language": "python",
   "name": "python3"
  },
  "language_info": {
   "codemirror_mode": {
    "name": "ipython",
    "version": 3
   },
   "file_extension": ".py",
   "mimetype": "text/x-python",
   "name": "python",
   "nbconvert_exporter": "python",
   "pygments_lexer": "ipython3",
   "version": "3.6.5"
  }
 },
 "nbformat": 4,
 "nbformat_minor": 1
}
